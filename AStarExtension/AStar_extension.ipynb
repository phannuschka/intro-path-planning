{
 "cells": [
  {
   "cell_type": "markdown",
   "id": "24b50dbb0efe0d73",
   "metadata": {},
   "source": [
    "# A* Extension\n",
    "This notebook provides an interactive interface to visualize the A* extension for a 2-DoF environment. It allows you to select different benchmarks and adjust the parameters."
   ]
  },
  {
   "cell_type": "code",
   "execution_count": 9,
   "id": "initial_id",
   "metadata": {},
   "outputs": [
    {
     "data": {
      "application/vnd.jupyter.widget-view+json": {
       "model_id": "b01bc11b17c54374903ecedb4579c74d",
       "version_major": 2,
       "version_minor": 0
      },
      "text/plain": [
       "IntSlider(value=0, description='Benchmark:', layout=Layout(width='400px'), max=8, style=SliderStyle(descriptio…"
      ]
     },
     "metadata": {},
     "output_type": "display_data"
    },
    {
     "data": {
      "application/vnd.jupyter.widget-view+json": {
       "model_id": "0a73e3a8fc5244bcbe24b239b5d926cb",
       "version_major": 2,
       "version_minor": 0
      },
      "text/plain": [
       "SelectionSlider(description='X Discretization:', layout=Layout(width='400px'), options=(10, 20, 50, 100, 200),…"
      ]
     },
     "metadata": {},
     "output_type": "display_data"
    },
    {
     "data": {
      "application/vnd.jupyter.widget-view+json": {
       "model_id": "6a3a38bec02a47728651fccf81e02f14",
       "version_major": 2,
       "version_minor": 0
      },
      "text/plain": [
       "SelectionSlider(description='Y Discretization:', layout=Layout(width='400px'), options=(10, 20, 50, 100, 200),…"
      ]
     },
     "metadata": {},
     "output_type": "display_data"
    },
    {
     "data": {
      "application/vnd.jupyter.widget-view+json": {
       "model_id": "e2f657cea78341eab817519a91ec60fc",
       "version_major": 2,
       "version_minor": 0
      },
      "text/plain": [
       "SelectionSlider(description='Line Collision:', layout=Layout(width='400px'), options=(False, True), style=Slid…"
      ]
     },
     "metadata": {},
     "output_type": "display_data"
    },
    {
     "data": {
      "application/vnd.jupyter.widget-view+json": {
       "model_id": "f5c5d02a5a6f4b28ac932e16cd046242",
       "version_major": 2,
       "version_minor": 0
      },
      "text/plain": [
       "SelectionSlider(description='Reopening:', layout=Layout(width='400px'), options=(False, True), style=SliderSty…"
      ]
     },
     "metadata": {},
     "output_type": "display_data"
    },
    {
     "data": {
      "application/vnd.jupyter.widget-view+json": {
       "model_id": "ca2049803b054b08857cf5b0f3270702",
       "version_major": 2,
       "version_minor": 0
      },
      "text/plain": [
       "Output()"
      ]
     },
     "metadata": {},
     "output_type": "display_data"
    }
   ],
   "source": [
    "import ipywidgets as widgets\n",
    "from IPython.display import display\n",
    "import matplotlib.pyplot as plt\n",
    "from evaluation.two_dof.IPTestSuite_2DoF import benchList\n",
    "from evaluation.two_dof.PlotEnvironments import visualizeBenchmark\n",
    "\n",
    "# TODO: First, create an A star config and adapt it based on sliders\n",
    "\n",
    "slider_layout = widgets.Layout(width='400px')\n",
    "slider_style = {'description_width': '150px'}\n",
    "\n",
    "benchmark_slider = widgets.IntSlider(\n",
    "    value=0,\n",
    "    min=0,\n",
    "    max=len(benchList)-1,\n",
    "    step=1,\n",
    "    description='Benchmark:',\n",
    "    layout=slider_layout,\n",
    "    style=slider_style\n",
    ")\n",
    "\n",
    "discretizationX_slider = widgets.SelectionSlider(\n",
    "    options=[10, 20, 50, 100, 200],\n",
    "    value=10,\n",
    "    description='X Discretization:',\n",
    "    layout=slider_layout,\n",
    "    style=slider_style\n",
    ")\n",
    "\n",
    "discretizationY_slider = widgets.SelectionSlider(\n",
    "    options=[10, 20, 50, 100, 200],\n",
    "    value=10,\n",
    "    description='Y Discretization:',\n",
    "    layout=slider_layout,\n",
    "    style=slider_style\n",
    ")\n",
    "\n",
    "reopening_slider = widgets.SelectionSlider(\n",
    "    options=[False, True],\n",
    "    value=False,\n",
    "    description='Reopening:',\n",
    "    layout=slider_layout,\n",
    "    style=slider_style\n",
    ")\n",
    "\n",
    "lineCollision_slider = widgets.SelectionSlider(\n",
    "    options=[False, True],\n",
    "    value=False,\n",
    "    description='Line Collision:',\n",
    "    layout=slider_layout,\n",
    "    style=slider_style\n",
    ")\n",
    "\n",
    "# Create output widget to capture the plots\n",
    "output = widgets.Output()\n",
    "\n",
    "# Function to update plot - gets current values from all sliders\n",
    "def update_plot():\n",
    "    with output:\n",
    "        output.clear_output(wait=True)\n",
    "        fig, ax = visualizeBenchmark(\n",
    "            benchList[benchmark_slider.value],\n",
    "            discretizationX=discretizationX_slider.value,\n",
    "            discretizationY=discretizationY_slider.value\n",
    "        )\n",
    "        plt.show()\n",
    "\n",
    "# Initial plot\n",
    "update_plot()\n",
    "\n",
    "# Single change handler for all sliders\n",
    "def on_any_slider_change(change):\n",
    "    update_plot()\n",
    "\n",
    "# Attach the same handler to all three sliders\n",
    "benchmark_slider.observe(on_any_slider_change, names='value')\n",
    "discretizationX_slider.observe(on_any_slider_change, names='value')\n",
    "discretizationY_slider.observe(on_any_slider_change, names='value')\n",
    "\n",
    "# Display all sliders and output\n",
    "display(benchmark_slider, discretizationX_slider, discretizationY_slider, lineCollision_slider, reopening_slider, output)\n",
    "\n"
   ]
  },
  {
   "cell_type": "code",
   "execution_count": 10,
   "id": "6c44f3d4-30f2-44bd-b586-f5bdf2d339af",
   "metadata": {},
   "outputs": [],
   "source": [
    "# todo: perform A* search with the current parameters and visualize the result, as well as the stepwise visu"
   ]
  }
 ],
 "metadata": {
  "kernelspec": {
   "display_name": "ir",
   "language": "python",
   "name": "python3"
  },
  "language_info": {
   "codemirror_mode": {
    "name": "ipython",
    "version": 3
   },
   "file_extension": ".py",
   "mimetype": "text/x-python",
   "name": "python",
   "nbconvert_exporter": "python",
   "pygments_lexer": "ipython3",
   "version": "3.13.3"
  }
 },
 "nbformat": 4,
 "nbformat_minor": 5
}
