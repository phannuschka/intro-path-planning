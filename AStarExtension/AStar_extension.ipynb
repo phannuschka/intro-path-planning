{
 "cells": [
  {
   "cell_type": "markdown",
   "id": "24b50dbb0efe0d73",
   "metadata": {},
   "source": [
    "# A* Extension\n",
    "This notebook provides an interactive interface to visualize the A* extension for a 2-DoF environment. It allows you to select different benchmarks and adjust the parameters.\n",
    "\n",
    "First, we need to create the A* configuration with the newly introduced datafields:"
   ]
  },
  {
   "cell_type": "code",
   "execution_count": 3,
   "id": "218d6fa58fdcf046",
   "metadata": {},
   "outputs": [],
   "source": [
    "aStar_config = dict()\n",
    "aStar_config[\"w\"] = 0.5  # weight for the heuristic\n",
    "aStar_config[\"heuristic\"]  = \"euclidean\"  # heuristic function to use\n",
    "aStar_config[\"reopen\"] = False  # whether to allow reopening of nodes\n",
    "aStar_config[\"dof\"] = 2  # number of degrees of freedom\n",
    "aStar_config[\"check_connection\"] = False  # whether to check for collisions between nodes\n",
    "aStar_config[\"lazy_check_connection\"] = True  # only check the connection when node is expanded. We recommend to\n",
    "aStar_config[\"discretization\"] = [10, 10]  # number of discretization steps per dof\n",
    "aStar_config[\"benchmark\"] = [0]  # benchmark to use, can be a list of indices from the benchmark list\n"
   ]
  },
  {
   "cell_type": "markdown",
   "id": "c9f324b98cfcfa3c",
   "metadata": {},
   "source": [
    "Next, we set up the interactive widgets to set the parameters for the A* algorithm. The widgets will allow you to select a benchmark, set the discretization values and weights, and toggle options like reopening and line collision checks."
   ]
  },
  {
   "cell_type": "code",
   "execution_count": 4,
   "id": "initial_id",
   "metadata": {},
   "outputs": [
    {
     "data": {
      "application/vnd.jupyter.widget-view+json": {
       "model_id": "ba2190def3ba48a99a57439163b3fbc9",
       "version_major": 2,
       "version_minor": 0
      },
      "text/plain": [
       "IntSlider(value=0, description='Benchmark:', layout=Layout(width='400px'), max=8, style=SliderStyle(descriptio…"
      ]
     },
     "metadata": {},
     "output_type": "display_data"
    },
    {
     "data": {
      "application/vnd.jupyter.widget-view+json": {
       "model_id": "ebae03edf3034782811a872825d65534",
       "version_major": 2,
       "version_minor": 0
      },
      "text/plain": [
       "SelectionSlider(description='X Discretization:', layout=Layout(width='400px'), options=(10, 20, 50, 100, 200),…"
      ]
     },
     "metadata": {},
     "output_type": "display_data"
    },
    {
     "data": {
      "application/vnd.jupyter.widget-view+json": {
       "model_id": "2d7f3d4937704a56b162e0c12d9d6b5c",
       "version_major": 2,
       "version_minor": 0
      },
      "text/plain": [
       "SelectionSlider(description='Y Discretization:', layout=Layout(width='400px'), options=(10, 20, 50, 100, 200),…"
      ]
     },
     "metadata": {},
     "output_type": "display_data"
    },
    {
     "data": {
      "application/vnd.jupyter.widget-view+json": {
       "model_id": "688e85a5eba94c5dad1199c9781dce6a",
       "version_major": 2,
       "version_minor": 0
      },
      "text/plain": [
       "FloatSlider(value=0.5, description='Weight:', layout=Layout(width='400px'), max=1.0, min=0.5, step=0.01, style…"
      ]
     },
     "metadata": {},
     "output_type": "display_data"
    },
    {
     "data": {
      "application/vnd.jupyter.widget-view+json": {
       "model_id": "f552a7a1748f4acca8f90cdca80339e8",
       "version_major": 2,
       "version_minor": 0
      },
      "text/plain": [
       "SelectionSlider(description='Line Collision:', layout=Layout(width='400px'), options=(False, True), style=Slid…"
      ]
     },
     "metadata": {},
     "output_type": "display_data"
    },
    {
     "data": {
      "application/vnd.jupyter.widget-view+json": {
       "model_id": "8298fd7abb3e44daa7be4b893f439de2",
       "version_major": 2,
       "version_minor": 0
      },
      "text/plain": [
       "SelectionSlider(description='Reopening:', layout=Layout(width='400px'), options=(False, True), style=SliderSty…"
      ]
     },
     "metadata": {},
     "output_type": "display_data"
    },
    {
     "data": {
      "application/vnd.jupyter.widget-view+json": {
       "model_id": "2a66db2fccc140f99cbd5755d9e074b5",
       "version_major": 2,
       "version_minor": 0
      },
      "text/plain": [
       "Output()"
      ]
     },
     "metadata": {},
     "output_type": "display_data"
    }
   ],
   "source": [
    "import ipywidgets as widgets\n",
    "from IPython.display import display\n",
    "import matplotlib.pyplot as plt\n",
    "from evaluation.two_dof.IPTestSuite_2DoF import benchList\n",
    "from evaluation.two_dof.PlotEnvironments import visualizeBenchmark\n",
    "\n",
    "slider_layout = widgets.Layout(width='400px')\n",
    "slider_style = {'description_width': '150px'}\n",
    "\n",
    "benchmark_slider = widgets.IntSlider(value=0, min=0, max=len(benchList)-1, step=1, description='Benchmark:', layout=slider_layout, style=slider_style)\n",
    "discretizationX_slider = widgets.SelectionSlider(options=[10, 20, 50, 100, 200], value=10, description='X Discretization:', layout=slider_layout, style=slider_style)\n",
    "discretizationY_slider = widgets.SelectionSlider(options=[10, 20, 50, 100, 200], value=10, description='Y Discretization:', layout=slider_layout, style=slider_style)\n",
    "weight_slider = widgets.FloatSlider(value=0.5, min=0.5, max=1.0, step=0.01, description='Weight:', layout=slider_layout, style=slider_style)\n",
    "reopening_slider = widgets.SelectionSlider(options=[False, True], value=False, description='Reopening:', layout=slider_layout, style=slider_style)\n",
    "lineCollision_slider = widgets.SelectionSlider(options=[False, True], value=False, description='Line Collision:', layout=slider_layout, style=slider_style)\n",
    "\n",
    "# Create output widget to capture the plots\n",
    "output = widgets.Output()\n",
    "def update_plot():\n",
    "    with output:\n",
    "        output.clear_output(wait=True)\n",
    "        fig, ax = visualizeBenchmark(\n",
    "            benchList[benchmark_slider.value],\n",
    "            discretizationX=discretizationX_slider.value,\n",
    "            discretizationY=discretizationY_slider.value\n",
    "        )\n",
    "        plt.show()\n",
    "\n",
    "def update_a_star_config(change=None):\n",
    "    aStar_config[\"benchmark\"] = [benchmark_slider.value]\n",
    "    aStar_config[\"discretization\"] = [discretizationX_slider.value, discretizationY_slider.value]\n",
    "    aStar_config[\"w\"] = weight_slider.value\n",
    "    aStar_config[\"reopen\"] = reopening_slider.value\n",
    "    aStar_config[\"check_connection\"] = lineCollision_slider.value\n",
    "\n",
    "# Initial plot\n",
    "update_plot()\n",
    "\n",
    "# Single change handler for all sliders\n",
    "def on_any_slider_change(change):\n",
    "    update_plot()\n",
    "    update_a_star_config()\n",
    "\n",
    "# Attach the same handler to all three sliders\n",
    "benchmark_slider.observe(on_any_slider_change, names='value')\n",
    "discretizationX_slider.observe(on_any_slider_change, names='value')\n",
    "discretizationY_slider.observe(on_any_slider_change, names='value')\n",
    "weight_slider.observe(update_a_star_config, names='value')\n",
    "lineCollision_slider.observe(update_a_star_config, names='value')\n",
    "reopening_slider.observe(update_a_star_config, names='value')\n",
    "\n",
    "# Display all sliders and output\n",
    "display(benchmark_slider, discretizationX_slider, discretizationY_slider, weight_slider, lineCollision_slider, reopening_slider, output)"
   ]
  },
  {
   "cell_type": "code",
   "execution_count": 7,
   "id": "6c44f3d4-30f2-44bd-b586-f5bdf2d339af",
   "metadata": {},
   "outputs": [
    {
     "data": {
      "application/vnd.jupyter.widget-view+json": {
       "model_id": "4191c4d1c1c945fe8f7e5dab5dd1744a",
       "version_major": 2,
       "version_minor": 0
      },
      "text/plain": [
       "Search space explored:   0%|          | 0/2500 [00:00<?, ?nodes/s]"
      ]
     },
     "metadata": {},
     "output_type": "display_data"
    },
    {
     "name": "stdout",
     "output_type": "stream",
     "text": [
      "Planning took 0.71 seconds\n"
     ]
    }
   ],
   "source": [
    "import sys, os, time\n",
    "sys.path.append(os.path.join(os.getcwd(), 'core'))\n",
    "sys.path.append(os.path.join(os.getcwd(), 'evaluation/two_dof'))\n",
    "\n",
    "from core.IPAStarExtended import AStar\n",
    "from Benchmarking import get_config_dir_name, evaluate\n",
    "\n",
    "start_time = time.time()\n",
    "stats, solution, deltas, astar = evaluate(config=aStar_config, benchmark=benchList[aStar_config[\"benchmark\"][0]], dump=True)\n",
    "print(f\"Planning took {time.time() - start_time:.2f} seconds\")\n"
   ]
  },
  {
   "cell_type": "markdown",
   "id": "940a46da961d94dd",
   "metadata": {},
   "source": [
    "Next, we can use the interactive plot to visualize the A* search. We render all frames at once to avoid the overhead of rendering each frame individually, which can be slow in Jupyter notebooks. This allows us to see the entire search process in one go."
   ]
  },
  {
   "cell_type": "code",
   "execution_count": null,
   "id": "7b0ccd27-6346-48f4-85ab-088b547e35eb",
   "metadata": {},
   "outputs": [
    {
     "name": "stdout",
     "output_type": "stream",
     "text": [
      "Config dir: /home/simon/Desktop/Uni/Master/Semester_3/Industrieroboter/Final_Project/Notebooks/intro-path-planning/AStarExtension/evaluation/two_dof/results/Mikado/disc[50, 50]_euclidean_w0.66\n",
      "Mikado\n"
     ]
    },
    {
     "data": {
      "application/vnd.jupyter.widget-view+json": {
       "model_id": "06a299eb0242483da6862535acbe0cdc",
       "version_major": 2,
       "version_minor": 0
      },
      "text/plain": [
       "IntSlider(value=0, description='Animation Frame:', layout=Layout(width='400px'), max=443, style=SliderStyle(de…"
      ]
     },
     "metadata": {},
     "output_type": "display_data"
    },
    {
     "data": {
      "application/vnd.jupyter.widget-view+json": {
       "model_id": "24ee1699757f435ebc35de978c609bc5",
       "version_major": 2,
       "version_minor": 0
      },
      "text/plain": [
       "Output()"
      ]
     },
     "metadata": {},
     "output_type": "display_data"
    }
   ],
   "source": [
    "# get the directory of the benchmarking results\n",
    "config_dir = get_config_dir_name(aStar_config, benchList[aStar_config[\"benchmark\"][0]].name)\n",
    "print(f\"Config dir: {config_dir}\")\n",
    "\n",
    "from evaluation.two_dof.Animate import animate\n",
    "from Animate import animate\n",
    "from IPython.display import display, Image\n",
    "\n",
    "animation_dir = animate(config_dir)\n",
    "\n",
    "def get_animation_images(animation_dir):\n",
    "    # Get all step_*.jpeg files and sort them numerically\n",
    "    image_files = [f for f in os.listdir(animation_dir) if f.startswith('step_') and f.endswith('.jpg')]\n",
    "    image_files.sort(key=lambda x: int(os.path.basename(x).split('_')[1].split('.')[0]))\n",
    "    return image_files\n",
    "\n",
    "animation_images = get_animation_images(animation_dir)\n",
    "\n",
    "# Create animation slider\n",
    "animation_slider = widgets.IntSlider(\n",
    "    value=0,\n",
    "    min=0,\n",
    "    max=len(animation_images)-1 if animation_images else 0,\n",
    "    step=1,\n",
    "    description='Animation Frame:',\n",
    "    layout=slider_layout,\n",
    "    style=slider_style\n",
    ")\n",
    "\n",
    "# Create image output widget\n",
    "image_output = widgets.Output()\n",
    "\n",
    "def update_animation_image():\n",
    "    if not animation_images:\n",
    "        return\n",
    "\n",
    "    with image_output:\n",
    "        image_output.clear_output(wait=True)\n",
    "        # Display the selected image\n",
    "        img_path = animation_images[animation_slider.value]\n",
    "        display(Image(filename=animation_dir + '/' + img_path, width=600))  # Adjust width as needed\n",
    "\n",
    "# Initial image display\n",
    "update_animation_image()\n",
    "\n",
    "# Animation slider change handler\n",
    "def on_animation_slider_change(change):\n",
    "    update_animation_image()\n",
    "\n",
    "animation_slider.observe(on_animation_slider_change, names='value')\n",
    "\n",
    "# Update your display to include the animation slider and image\n",
    "display(\n",
    "    animation_slider,  # Add animation slider\n",
    "    image_output  # Add image output\n",
    ")\n"
   ]
  },
  {
   "cell_type": "code",
   "execution_count": null,
   "id": "2005c50ebb93901c",
   "metadata": {},
   "outputs": [],
   "source": []
  }
 ],
 "metadata": {
  "kernelspec": {
   "display_name": "ir",
   "language": "python",
   "name": "python3"
  },
  "language_info": {
   "codemirror_mode": {
    "name": "ipython",
    "version": 3
   },
   "file_extension": ".py",
   "mimetype": "text/x-python",
   "name": "python",
   "nbconvert_exporter": "python",
   "pygments_lexer": "ipython3",
   "version": "3.13.3"
  }
 },
 "nbformat": 4,
 "nbformat_minor": 5
}
