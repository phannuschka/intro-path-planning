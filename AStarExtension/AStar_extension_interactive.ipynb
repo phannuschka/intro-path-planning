{
 "cells": [
  {
   "cell_type": "markdown",
   "id": "24b50dbb0efe0d73",
   "metadata": {},
   "source": [
    "# A* Extension\n",
    "This notebook provides an interactive interface to visualize the A* extension for a 2-DoF environment. It allows you to select different benchmarks and adjust the parameters."
   ]
  },
  {
   "cell_type": "markdown",
   "id": "7cb9bb98ad66b56",
   "metadata": {},
   "source": [
    "## A* Configuration\n",
    "First, we need to create the A* configuration with the newly introduced datafields for every extension:\n"
   ]
  },
  {
   "cell_type": "code",
   "id": "218d6fa58fdcf046",
   "metadata": {},
   "source": [
    "aStar_config = dict()\n",
    "aStar_config[\"w\"] = 0.5  # weight for the heuristic\n",
    "aStar_config[\"heuristic\"]  = \"euclidean\"  # heuristic function to use\n",
    "aStar_config[\"reopen\"] = False  # whether to allow reopening of nodes\n",
    "aStar_config[\"dof\"] = 2  # number of degrees of freedom\n",
    "aStar_config[\"check_connection\"] = False  # whether to check for collisions between nodes\n",
    "aStar_config[\"lazy_check_connection\"] = True  # only check the connection when node is expanded. We recommend to keep this as True (performance)\n",
    "aStar_config[\"discretization\"] = [10, 10]  # number of discretization steps per dof\n",
    "aStar_config[\"benchmark\"] = [0]  # benchmark to use, can be a list of indices from the benchmark list\n"
   ],
   "outputs": [],
   "execution_count": null
  },
  {
   "cell_type": "markdown",
   "id": "c9f324b98cfcfa3c",
   "metadata": {},
   "source": [
    "Next, we set up the interactive widgets to set the parameters for the A* algorithm. The widgets will allow you to select a benchmark, set the discretization values and weights, and toggle options like reopening and line collision checks."
   ]
  },
  {
   "cell_type": "code",
   "id": "initial_id",
   "metadata": {},
   "source": [
    "import ipywidgets as widgets\n",
    "from IPython.display import display\n",
    "import matplotlib.pyplot as plt\n",
    "from evaluation.two_dof.IPTestSuite_2DoF import benchList\n",
    "from evaluation.two_dof.PlotEnvironments import visualizeBenchmark\n",
    "\n",
    "slider_layout = widgets.Layout(width='400px')\n",
    "slider_style = {'description_width': '150px'}\n",
    "\n",
    "benchmark_slider = widgets.IntSlider(value=0, min=0, max=len(benchList)-1, step=1, description='Benchmark:', layout=slider_layout, style=slider_style)\n",
    "discretizationX_slider = widgets.SelectionSlider(options=[10, 20, 50, 100, 200], value=10, description='X Discretization:', layout=slider_layout, style=slider_style)\n",
    "discretizationY_slider = widgets.SelectionSlider(options=[10, 20, 50, 100, 200], value=10, description='Y Discretization:', layout=slider_layout, style=slider_style)\n",
    "weight_slider = widgets.FloatSlider(value=0.5, min=0.5, max=1.0, step=0.01, description='Weight:', layout=slider_layout, style=slider_style)\n",
    "reopening_slider = widgets.SelectionSlider(options=[False, True], value=False, description='Reopening:', layout=slider_layout, style=slider_style)\n",
    "lineCollision_slider = widgets.SelectionSlider(options=[False, True], value=False, description='Line Collision:', layout=slider_layout, style=slider_style)\n",
    "\n",
    "output = widgets.Output()  # output widget to capture the plots\n",
    "\n",
    "def update_plot():\n",
    "    with output:\n",
    "        output.clear_output(wait=True)\n",
    "        fig, ax = visualizeBenchmark(\n",
    "            benchList[benchmark_slider.value],\n",
    "            discretizationX=discretizationX_slider.value,\n",
    "            discretizationY=discretizationY_slider.value\n",
    "        )\n",
    "        plt.show()\n",
    "\n",
    "def update_a_star_config(change=None):\n",
    "    aStar_config[\"benchmark\"] = [benchmark_slider.value]\n",
    "    aStar_config[\"discretization\"] = [discretizationX_slider.value, discretizationY_slider.value]\n",
    "    aStar_config[\"w\"] = weight_slider.value\n",
    "    aStar_config[\"reopen\"] = reopening_slider.value\n",
    "    aStar_config[\"check_connection\"] = lineCollision_slider.value\n",
    "\n",
    "\n",
    "update_plot()  # Initial plot\n",
    "\n",
    "def on_any_slider_change(change):\n",
    "    update_plot()\n",
    "    update_a_star_config()\n",
    "\n",
    "benchmark_slider.observe(on_any_slider_change, names='value')\n",
    "discretizationX_slider.observe(on_any_slider_change, names='value')\n",
    "discretizationY_slider.observe(on_any_slider_change, names='value')\n",
    "weight_slider.observe(update_a_star_config, names='value')\n",
    "lineCollision_slider.observe(update_a_star_config, names='value')\n",
    "reopening_slider.observe(update_a_star_config, names='value')\n",
    "\n",
    "display(benchmark_slider, discretizationX_slider, discretizationY_slider, weight_slider, lineCollision_slider, reopening_slider, output)"
   ],
   "outputs": [],
   "execution_count": null
  },
  {
   "cell_type": "markdown",
   "id": "a62da5318c5b5852",
   "metadata": {},
   "source": [
    "## A* Search Execution\n",
    "Now that we have set up the configuration, we can execute the A* search algorithm using the selected benchmark and parameters. We provide a progress bar on how much of the search space has been explored (so it does not have to reach 100%).\n",
    "This will also output the time taken for the planning process.\n",
    "\n",
    "The `evaluate` function will run the A* algorithm with the specified configuration and benchmark, and it will return statistics, the solution path, deltas for visualization, and the A* instance itself. If `dump=True`, it will save the results to a directory named after the configuration and benchmark, so we do not have to run the search again for visualization."
   ]
  },
  {
   "cell_type": "code",
   "id": "6c44f3d4-30f2-44bd-b586-f5bdf2d339af",
   "metadata": {},
   "source": [
    "import sys, os, time\n",
    "sys.path.append(os.path.join(os.getcwd(), 'core'))\n",
    "sys.path.append(os.path.join(os.getcwd(), 'evaluation/two_dof'))\n",
    "\n",
    "from core.IPAStarExtended import AStar\n",
    "from Benchmarking import get_config_dir_name, evaluate\n",
    "\n",
    "start_time = time.time()\n",
    "stats, solution, deltas, astar = evaluate(config=aStar_config, benchmark=benchList[aStar_config[\"benchmark\"][0]], dump=True)\n",
    "print(f\"Planning took {time.time() - start_time:.2f} seconds\")\n"
   ],
   "outputs": [],
   "execution_count": null
  },
  {
   "cell_type": "markdown",
   "id": "bd4ca3f6242caa08",
   "metadata": {},
   "source": [
    "## Step-by-Step Visualization of the search process\n",
    "\n",
    "Next, we can use the interactive plot to visualize the A* search. We render all frames at once using OpenCV to avoid the overhead of rendering each frame individually, which can be slow in Jupyter notebooks. This allows us to see the entire search process in one go."
   ]
  },
  {
   "cell_type": "code",
   "id": "7b0ccd27-6346-48f4-85ab-088b547e35eb",
   "metadata": {},
   "source": [
    "from Animate import animate\n",
    "from IPython.display import display, Image\n",
    "\n",
    "# get the directory of the benchmarking results to load them\n",
    "config_dir = get_config_dir_name(aStar_config, benchList[aStar_config[\"benchmark\"][0]].name)\n",
    "\n",
    "animation_dir = animate(config_dir)  # animate the A* search and save frames to a directory\n",
    "\n",
    "def get_animation_images(animation_dir):\n",
    "    # Get all step_*.jpg files and sort them numerically\n",
    "    image_files = [f for f in os.listdir(animation_dir) if f.startswith('step_') and f.endswith('.jpg')]\n",
    "    image_files.sort(key=lambda x: int(os.path.basename(x).split('_')[1].split('.')[0]))\n",
    "    return image_files\n",
    "\n",
    "animation_images = get_animation_images(animation_dir)\n",
    "\n",
    "# Create animation slider\n",
    "animation_slider = widgets.IntSlider(value=0, min=0, max=len(animation_images)-1 if animation_images else 0, step=1, description='Animation Frame:',layout=slider_layout, style=slider_style)\n",
    "\n",
    "image_output = widgets.Output()\n",
    "\n",
    "def update_animation_image(change=None):\n",
    "    if not animation_images:\n",
    "        return\n",
    "\n",
    "    with image_output:\n",
    "        image_output.clear_output(wait=True)\n",
    "        img_path = animation_images[animation_slider.value]\n",
    "        display(Image(filename=animation_dir + '/' + img_path, width=600))\n",
    "\n",
    "update_animation_image()\n",
    "\n",
    "animation_slider.observe(update_animation_image, names='value')\n",
    "display(animation_slider, image_output)"
   ],
   "outputs": [],
   "execution_count": null
  },
  {
   "cell_type": "code",
   "id": "2005c50ebb93901c",
   "metadata": {},
   "source": [],
   "outputs": [],
   "execution_count": null
  }
 ],
 "metadata": {
  "kernelspec": {
   "display_name": "Python 3 (ipykernel)",
   "language": "python",
   "name": "python3"
  },
  "language_info": {
   "codemirror_mode": {
    "name": "ipython",
    "version": 3
   },
   "file_extension": ".py",
   "mimetype": "text/x-python",
   "name": "python",
   "nbconvert_exporter": "python",
   "pygments_lexer": "ipython3",
   "version": "3.10.16"
  }
 },
 "nbformat": 4,
 "nbformat_minor": 5
}
