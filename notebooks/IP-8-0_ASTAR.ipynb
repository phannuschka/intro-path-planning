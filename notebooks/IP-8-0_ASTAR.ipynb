{
 "cells": [
  {
   "cell_type": "markdown",
   "metadata": {
    "tags": []
   },
   "source": [
    "Introduction\n",
    "============\n",
    "\n",
    "This is interactive work-sheet regarding \"Introduction to path planning\" (Author: Björn Hein).\n",
    "\n",
    "Version | Author\n",
    "------------ | -------------\n",
    "0.2 | Björn Hein\n",
    "\n",
    "\n",
    "License is based on Creative Commons: Attribution-NonCommercial 4.0 International (CC BY-NC 4.0) (pls. check: http://creativecommons.org/licenses/by-nc/4.0/)\n",
    "\n",
    "This work-sheet conatains a second draft version to implement the A\\* algorithm for path planning applications in Python. \n",
    "\n",
    "Important links are:\n",
    "\n",
    "* General Info: http://www.python.org\n",
    "* Python tutorial http://www.python.org/doc/tut/\n",
    "* NetworkX http://networkx.github.io/\n",
    "* NumPy and SciPy Guide http://docs.scipy.org/\n",
    "* Matplotlib gallery http://matplotlib.sourceforge.net/gallery.html\n",
    "\n",
    "\n",
    "Remember that:\n",
    "\n",
    "* you have to press ctrl-return or shift-return, to execute the code in the code sections, only then the variables are \"generated\" and can be used\n",
    "* you can execute the whole notebook by Cell->runAll"
   ]
  },
  {
   "cell_type": "markdown",
   "metadata": {},
   "source": [
    "Calculating hash value for nodes needed for the close-list\n",
    "====================================\n",
    "\n",
    "As the close-list of the $A^*$ is typically implemented via a *hash-map* and therefore an appropriate hash-function has to be provided to identify the nodes. A suitable way are a key based on the coordinates of the nodes, as there are unique."
   ]
  },
  {
   "cell_type": "code",
   "execution_count": 1,
   "metadata": {},
   "outputs": [],
   "source": [
    "def getNodeID(pos):\n",
    "    \"\"\"Compute a unique identifier based on the position\"\"\"\n",
    "    nodeId = \"-\"\n",
    "    for i in pos:\n",
    "        nodeId += str(i)+\"-\"\n",
    "    return nodeId"
   ]
  },
  {
   "cell_type": "code",
   "execution_count": 2,
   "metadata": {},
   "outputs": [
    {
     "data": {
      "text/plain": [
       "'-20-20-'"
      ]
     },
     "execution_count": 2,
     "metadata": {},
     "output_type": "execute_result"
    }
   ],
   "source": [
    "getNodeID([20,20])"
   ]
  },
  {
   "cell_type": "code",
   "execution_count": 3,
   "metadata": {
    "collapsed": false,
    "jupyter": {
     "outputs_hidden": false
    },
    "scrolled": true
   },
   "outputs": [
    {
     "name": "stdout",
     "output_type": "stream",
     "text": [
      "101 -31-30-\n",
      "99\n"
     ]
    }
   ],
   "source": [
    "a = dict()\n",
    "a[getNodeID([20,20])] = 99\n",
    "a[getNodeID([31,30])] = 101\n",
    "\n",
    "print(a[getNodeID([31,30])], getNodeID([31,30]))\n",
    "print(a[getNodeID([20,20])])\n"
   ]
  },
  {
   "cell_type": "markdown",
   "metadata": {},
   "source": [
    "A*\n",
    "==\n",
    "\n",
    "In the following there is an example for programming an A*-like path planning algorithm with some modifications. Please check Slides \"AStar-Basics.pdf\".\n",
    "\n",
    "*Remark: handleNode and expandNode are in this example merged to one function*"
   ]
  },
  {
   "cell_type": "code",
   "execution_count": 4,
   "metadata": {
    "collapsed": false,
    "jupyter": {
     "outputs_hidden": false
    }
   },
   "outputs": [],
   "source": [
    "from IPAStar import AStar\n",
    "from IPVISAStar import aStarVisualize, aStarVisualizeSteps, animateSolution, save_step_images, aStarVisualizeIncremental, aStarVisualizeIncrementalOpenCV\n",
    "import matplotlib.pylab as plt\n",
    "%matplotlib widget\n",
    "\n",
    "%load_ext autoreload\n",
    "%autoreload 2"
   ]
  },
  {
   "cell_type": "code",
   "execution_count": 5,
   "metadata": {},
   "outputs": [],
   "source": [
    "import IPTestSuite as ts"
   ]
  },
  {
   "cell_type": "code",
   "execution_count": 6,
   "metadata": {},
   "outputs": [
    {
     "name": "stdout",
     "output_type": "stream",
     "text": [
      "reopening node: --1-2- with g= 8.066666666666658 old g= 9.533333333333323\n",
      "Planning failed: index out of range\n",
      "planning time for Maze: 2.57 s\n",
      "[]\n"
     ]
    }
   ],
   "source": [
    "import time\n",
    "import numpy as np\n",
    "from IPTestSuite import Benchmark\n",
    "\n",
    "astarConfig = dict()\n",
    "astarConfig[\"w\"] = .8\n",
    "astarConfig[\"heuristic\"]  = \"euclidean\"\n",
    "astarConfig[\"reopen\"] = True\n",
    "astarConfig[\"dof\"] = 2\n",
    "astarConfig[\"discretization\"] = [30 for _ in range(astarConfig[\"dof\"])]\n",
    "astarConfig[\"check_connection\"] = True\n",
    "astarConfig[\"lazy_check_connection\"] = False\n",
    "# astarConfig[\"lowLimits\"] = [0 for _ in range(astarConfig[\"dof\"])]\n",
    "# astarConfig[\"highLimits\"] = [2 * np.pi for _ in range(astarConfig[\"dof\"])]\n",
    "\n",
    "for benchmark in ts.benchList:\n",
    "    try:\n",
    "        benchmark: Benchmark\n",
    "        # Note: for 2 DOF and workspace = configuration space\n",
    "        astarConfig[\"lowLimits\"] = [limit[0] for limit in benchmark.collisionChecker.getEnvironmentLimits()]\n",
    "        astarConfig[\"highLimits\"] = [limit[1] for limit in benchmark.collisionChecker.getEnvironmentLimits()]\n",
    "\n",
    "\n",
    "        start = time.time()\n",
    "        astar = AStar(benchmark.collisionChecker)\n",
    "        solution, deltas = astar.planPath(benchmark.startList, benchmark.goalList, astarConfig, store_viz=True)\n",
    "        print(f\"planning time for {benchmark.name}: {time.time() - start:.2f} s\")\n",
    "        print(solution)\n",
    "\n",
    "\n",
    "        aStarVisualizeIncrementalOpenCV(astar, solution, deltas, output_dir=f\"steps_{benchmark.name}\")\n",
    "\n",
    "    except Exception as e:\n",
    "        print(\"ERROR: \",benchmark.name, e)"
   ]
  },
  {
   "cell_type": "markdown",
   "metadata": {},
   "source": [
    "Questions:\n",
    "\n",
    "* What could be useful to be checked in function setStartGoal besides start and goal having the same dimension?\n",
    "* What is missing for a correct implementation of the A*? \n",
    "  * Why does this version not necessarily find the best solution? \n",
    "  * Why is it nevertheless useful to do so?\n",
    "\n"
   ]
  },
  {
   "cell_type": "code",
   "execution_count": null,
   "metadata": {},
   "outputs": [],
   "source": []
  },
  {
   "cell_type": "markdown",
   "metadata": {},
   "source": [
    "### Do the planning"
   ]
  },
  {
   "cell_type": "code",
   "execution_count": 7,
   "metadata": {
    "collapsed": false,
    "jupyter": {
     "outputs_hidden": false
    }
   },
   "outputs": [
    {
     "ename": "KeyError",
     "evalue": "'dof'",
     "output_type": "error",
     "traceback": [
      "\u001b[31m---------------------------------------------------------------------------\u001b[39m",
      "\u001b[31mKeyError\u001b[39m                                  Traceback (most recent call last)",
      "\u001b[36mCell\u001b[39m\u001b[36m \u001b[39m\u001b[32mIn[7]\u001b[39m\u001b[32m, line 27\u001b[39m\n\u001b[32m     22\u001b[39m astarConfig[\u001b[33m\"\u001b[39m\u001b[33mw\u001b[39m\u001b[33m\"\u001b[39m] = \u001b[32m.5\u001b[39m\n\u001b[32m     24\u001b[39m astarConfig[\u001b[33m\"\u001b[39m\u001b[33mheuristic\u001b[39m\u001b[33m\"\u001b[39m]  = \u001b[33m\"\u001b[39m\u001b[33meuclidean\u001b[39m\u001b[33m\"\u001b[39m\n\u001b[32m---> \u001b[39m\u001b[32m27\u001b[39m solution = \u001b[43mastar\u001b[49m\u001b[43m.\u001b[49m\u001b[43mplanPath\u001b[49m\u001b[43m(\u001b[49m\u001b[43mstart\u001b[49m\u001b[43m,\u001b[49m\u001b[43m \u001b[49m\u001b[43mgoal\u001b[49m\u001b[43m,\u001b[49m\u001b[43m \u001b[49m\u001b[43mastarConfig\u001b[49m\u001b[43m \u001b[49m\u001b[43m)\u001b[49m\n",
      "\u001b[36mFile \u001b[39m\u001b[32m~/Desktop/Uni/Master/Semester_3/Industrieroboter/Final_Project/Notebooks/intro-path-planning/notebooks/IPPerfMonitor.py:29\u001b[39m, in \u001b[36mIPPerfMonitor.__call__\u001b[39m\u001b[34m(self, *args, **kwargs)\u001b[39m\n\u001b[32m     26\u001b[39m \u001b[38;5;28;01mdef\u001b[39;00m\u001b[38;5;250m \u001b[39m\u001b[34m__call__\u001b[39m(\u001b[38;5;28mself\u001b[39m, *args, **kwargs):\n\u001b[32m     28\u001b[39m     starttime = time.time()\n\u001b[32m---> \u001b[39m\u001b[32m29\u001b[39m     ret = \u001b[38;5;28;43mself\u001b[39;49m\u001b[43m.\u001b[49m\u001b[43m__f\u001b[49m\u001b[43m(\u001b[49m\u001b[43m*\u001b[49m\u001b[43margs\u001b[49m\u001b[43m,\u001b[49m\u001b[43m \u001b[49m\u001b[43m*\u001b[49m\u001b[43m*\u001b[49m\u001b[43mkwargs\u001b[49m\u001b[43m)\u001b[49m\n\u001b[32m     30\u001b[39m     endtime = time.time()\n\u001b[32m     31\u001b[39m     element = {\u001b[33m'\u001b[39m\u001b[33margs\u001b[39m\u001b[33m'\u001b[39m: args, \u001b[33m'\u001b[39m\u001b[33mkwargs\u001b[39m\u001b[33m'\u001b[39m: kwargs, \u001b[33m\"\u001b[39m\u001b[33mretVal\u001b[39m\u001b[33m\"\u001b[39m: ret, \u001b[33m\"\u001b[39m\u001b[33mtime\u001b[39m\u001b[33m\"\u001b[39m: endtime-starttime}\n",
      "\u001b[36mFile \u001b[39m\u001b[32m~/Desktop/Uni/Master/Semester_3/Industrieroboter/Final_Project/Notebooks/intro-path-planning/notebooks/IPAStar.py:128\u001b[39m, in \u001b[36mAStar.planPath\u001b[39m\u001b[34m(self, startList, goalList, config, store_viz)\u001b[39m\n\u001b[32m    113\u001b[39m \u001b[38;5;129m@IPPerfMonitor\u001b[39m\n\u001b[32m    114\u001b[39m \u001b[38;5;28;01mdef\u001b[39;00m\u001b[38;5;250m \u001b[39m\u001b[34mplanPath\u001b[39m(\u001b[38;5;28mself\u001b[39m, startList, goalList, config, store_viz=\u001b[38;5;28;01mFalse\u001b[39;00m):\n\u001b[32m    115\u001b[39m \u001b[38;5;250m    \u001b[39m\u001b[33;03m\"\"\"\u001b[39;00m\n\u001b[32m    116\u001b[39m \n\u001b[32m    117\u001b[39m \u001b[33;03m    Args:\u001b[39;00m\n\u001b[32m   (...)\u001b[39m\u001b[32m    126\u001b[39m \n\u001b[32m    127\u001b[39m \u001b[33;03m    \"\"\"\u001b[39;00m\n\u001b[32m--> \u001b[39m\u001b[32m128\u001b[39m     \u001b[38;5;28mself\u001b[39m.dof = \u001b[43mconfig\u001b[49m\u001b[43m[\u001b[49m\u001b[33;43m\"\u001b[39;49m\u001b[33;43mdof\u001b[39;49m\u001b[33;43m\"\u001b[39;49m\u001b[43m]\u001b[49m\n\u001b[32m    129\u001b[39m     \u001b[38;5;28mself\u001b[39m.discretization = config[\u001b[33m\"\u001b[39m\u001b[33mdiscretization\u001b[39m\u001b[33m\"\u001b[39m]\n\u001b[32m    130\u001b[39m     \u001b[38;5;28mself\u001b[39m.reopen = config[\u001b[33m\"\u001b[39m\u001b[33mreopen\u001b[39m\u001b[33m\"\u001b[39m]\n",
      "\u001b[31mKeyError\u001b[39m: 'dof'"
     ]
    }
   ],
   "source": [
    "import matplotlib.pyplot as plt\n",
    "%matplotlib inline\n",
    "\n",
    "from shapely.geometry import Point, Polygon, LineString\n",
    "from IPEnvironment import CollisionChecker\n",
    "\n",
    "# Definition of a testing environment\n",
    "trapField = dict()\n",
    "trapField[\"obs1\"] =   LineString([(6, 18), (6, 8), (16, 8), (16,18)]).buffer(1.0)\n",
    "\n",
    "environment = CollisionChecker(trapField)\n",
    "\n",
    "\n",
    "start = [[10,20]]\n",
    "goal  = [[13,1]]\n",
    "\n",
    "# AStar\n",
    "astar = AStar(environment)\n",
    "\n",
    "# To know what is part on the config please consult the documentation of planPath\n",
    "astarConfig = dict()\n",
    "astarConfig[\"w\"] = .5\n",
    "\n",
    "astarConfig[\"heuristic\"]  = \"euclidean\"\n",
    "\n",
    "\n",
    "solution = astar.planPath(start, goal, astarConfig )\n"
   ]
  },
  {
   "cell_type": "markdown",
   "metadata": {},
   "source": [
    "### Do the visualization"
   ]
  },
  {
   "cell_type": "markdown",
   "metadata": {},
   "source": [
    "* Idea: Show internal data of AStar\n",
    "* show closeList and the evaluated values for these nodes\n",
    "* add these information in a matrix"
   ]
  },
  {
   "cell_type": "code",
   "execution_count": 8,
   "metadata": {
    "collapsed": false,
    "jupyter": {
     "outputs_hidden": false
    }
   },
   "outputs": [
    {
     "name": "stdout",
     "output_type": "stream",
     "text": [
      "Drawing graph took 0.0006 seconds\n",
      "Drawing obstacles took 0.0089 seconds\n"
     ]
    },
    {
     "ename": "IndexError",
     "evalue": "list index out of range",
     "output_type": "error",
     "traceback": [
      "\u001b[31m---------------------------------------------------------------------------\u001b[39m",
      "\u001b[31mIndexError\u001b[39m                                Traceback (most recent call last)",
      "\u001b[36mCell\u001b[39m\u001b[36m \u001b[39m\u001b[32mIn[8]\u001b[39m\u001b[32m, line 3\u001b[39m\n\u001b[32m      1\u001b[39m fig = plt.figure(figsize=(\u001b[32m7\u001b[39m,\u001b[32m7\u001b[39m))\n\u001b[32m      2\u001b[39m ax = fig.add_subplot(\u001b[32m1\u001b[39m,\u001b[32m1\u001b[39m,\u001b[32m1\u001b[39m)\n\u001b[32m----> \u001b[39m\u001b[32m3\u001b[39m \u001b[43maStarVisualize\u001b[49m\u001b[43m(\u001b[49m\u001b[43mastar\u001b[49m\u001b[43m,\u001b[49m\u001b[43m \u001b[49m\u001b[43msolution\u001b[49m\u001b[43m,\u001b[49m\u001b[43m \u001b[49m\u001b[43max\u001b[49m\u001b[43m \u001b[49m\u001b[43m=\u001b[49m\u001b[43m \u001b[49m\u001b[43max\u001b[49m\u001b[43m,\u001b[49m\u001b[43m \u001b[49m\u001b[43mnodeSize\u001b[49m\u001b[43m=\u001b[49m\u001b[32;43m50\u001b[39;49m\u001b[43m)\u001b[49m\n",
      "\u001b[36mFile \u001b[39m\u001b[32m~/Desktop/Uni/Master/Semester_3/Industrieroboter/Final_Project/Notebooks/intro-path-planning/notebooks/IPVISAStar.py:58\u001b[39m, in \u001b[36maStarVisualize\u001b[39m\u001b[34m(planner, solution, ax, nodeSize, viz_solution, viz_obstacles)\u001b[39m\n\u001b[32m     55\u001b[39m \u001b[38;5;66;03m# draw edges based on solution path\u001b[39;00m\n\u001b[32m     56\u001b[39m nx.draw_networkx_edges(Gsp,pos,alpha=\u001b[32m0.8\u001b[39m,edge_color=\u001b[33m'\u001b[39m\u001b[33mg\u001b[39m\u001b[33m'\u001b[39m,width=\u001b[32m10\u001b[39m,arrows=\u001b[38;5;28;01mTrue\u001b[39;00m)\n\u001b[32m---> \u001b[39m\u001b[32m58\u001b[39m nx.draw_networkx_nodes(graph,pos,nodelist=[\u001b[43msolution\u001b[49m\u001b[43m[\u001b[49m\u001b[32;43m0\u001b[39;49m\u001b[43m]\u001b[49m],\n\u001b[32m     59\u001b[39m                        node_size=\u001b[32m300\u001b[39m,\n\u001b[32m     60\u001b[39m                        node_color=\u001b[33m'\u001b[39m\u001b[33m#00dd00\u001b[39m\u001b[33m'\u001b[39m,  ax = ax)\n\u001b[32m     61\u001b[39m nx.draw_networkx_labels(graph,pos,labels={solution[\u001b[32m0\u001b[39m]: \u001b[33m\"\u001b[39m\u001b[33mS\u001b[39m\u001b[33m\"\u001b[39m},  ax = ax)\n\u001b[32m     64\u001b[39m nx.draw_networkx_nodes(graph,pos,nodelist=[solution[-\u001b[32m1\u001b[39m]],\n\u001b[32m     65\u001b[39m                                node_size=\u001b[32m300\u001b[39m,\n\u001b[32m     66\u001b[39m                                node_color=\u001b[33m'\u001b[39m\u001b[33m#DD0000\u001b[39m\u001b[33m'\u001b[39m,  ax = ax)\n",
      "\u001b[31mIndexError\u001b[39m: list index out of range"
     ]
    },
    {
     "data": {
      "image/png": "[encoded data removed]",
      "text/plain": [
       "<Figure size 700x700 with 1 Axes>"
      ]
     },
     "metadata": {},
     "output_type": "display_data"
    }
   ],
   "source": [
    "fig = plt.figure(figsize=(7,7))\n",
    "ax = fig.add_subplot(1,1,1)\n",
    "aStarVisualize(astar, solution, ax = ax, nodeSize=50)"
   ]
  },
  {
   "cell_type": "markdown",
   "metadata": {
    "tags": []
   },
   "source": [
    "Experiments\n",
    "===========\n",
    "\n",
    "* Change evaluation function to f(n) = w * h + (1-w) * g, and visualize results\n",
    "* Implement another heuristic (e.g. Euklid) and make it switchable via a parameter.\n"
   ]
  },
  {
   "cell_type": "markdown",
   "metadata": {},
   "source": []
  },
  {
   "cell_type": "code",
   "execution_count": null,
   "metadata": {},
   "outputs": [],
   "source": []
  }
 ],
 "metadata": {
  "kernelspec": {
   "display_name": "ir",
   "language": "python",
   "name": "python3"
  },
  "language_info": {
   "codemirror_mode": {
    "name": "ipython",
    "version": 3
   },
   "file_extension": ".py",
   "mimetype": "text/x-python",
   "name": "python",
   "nbconvert_exporter": "python",
   "pygments_lexer": "ipython3",
   "version": "3.13.3"
  }
 },
 "nbformat": 4,
 "nbformat_minor": 4
}
